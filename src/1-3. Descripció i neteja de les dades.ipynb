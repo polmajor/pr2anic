{
 "cells": [
  {
   "cell_type": "markdown",
   "metadata": {},
   "source": [
    "<div style=\"float: right; width: 50%;\">\n",
    "<p style=\"margin: 0; text-align:right; padding-button: 100px;\">Pol Major Munich</p>\n",
    "<p style=\"margin: 0; padding-top: 22px; text-align:right;\">Tipologia i cicle de vida de les dades · Pràctica 2</p>\n",
    "<p style=\"margin: 0; text-align:right;\">2018-1 · Màster universitari en Ciència de dades (Data science)</p>\n",
    "<p style=\"margin: 0; text-align:right; padding-button: 100px;\">Estudis de Informàtica, Multimèdia i Telecomunicació</p>\n",
    "</div>"
   ]
  },
  {
   "cell_type": "markdown",
   "metadata": {},
   "source": [
    "# 1-3. Descripció i neteja de les dades:\n",
    "\n",
    "· Les dades utilitzades es poden descarregar a https://www.kaggle.com/c/titanic/data\n",
    "\n",
    "· El fitxer \"train.csv\" conté dades amb etiqueta (label), mentre que el \"test.csv\" serveix per evaluar els models.\n",
    "\n",
    "· Ambdós fitxer es prepararan conjuntament, de manera que el primer pas és la càrrega de les dades."
   ]
  },
  {
   "cell_type": "code",
   "execution_count": 1,
   "metadata": {},
   "outputs": [],
   "source": [
    "import pandas as pd\n",
    "train = pd.read_csv(\"train.csv\")\n",
    "test = pd.read_csv(\"test.csv\")"
   ]
  },
  {
   "cell_type": "markdown",
   "metadata": {},
   "source": [
    "**1.Descripció del dataset:** La pregunta que es pretén respondre amb aquestes dades és **si una persona va sobreviure o no** a l'enfonsament del titànic.\n",
    "\n",
    "Com es veu a la taula següent, es diposa de diverses variables: edad, sexe, classe, número de germans, pares i fills, etc.\n",
    "\n",
    "<table>\n",
    "<tbody>\n",
    "<tr><th><b>Variable</b></th><th><b>Definition</b></th><th><b>Key</b></th></tr>\n",
    "<tr>\n",
    "<td>survived</td>\n",
    "<td>Survived</td>\n",
    "<td>0 = No, 1 = Yes</td>\n",
    "</tr>\n",
    "<tr>\n",
    "<td>pclass</td>\n",
    "<td>Ticket class</td>\n",
    "<td>1 = 1st, 2 = 2nd, 3 = 3rd</td>\n",
    "</tr>\n",
    "<tr>\n",
    "<td>sex</td>\n",
    "<td>Sex</td>\n",
    "<td></td>\n",
    "</tr>\n",
    "<tr>\n",
    "<td>Age</td>\n",
    "<td>Age in years</td>\n",
    "<td></td>\n",
    "</tr>\n",
    "<tr>\n",
    "<td>sibsp</td>\n",
    "<td># of siblings / spouses aboard the Titanic</td>\n",
    "<td></td>\n",
    "</tr>\n",
    "<tr>\n",
    "<td>parch</td>\n",
    "<td># of parents / children aboard the Titanic</td>\n",
    "<td></td>\n",
    "</tr>\n",
    "<tr>\n",
    "<td>ticket</td>\n",
    "<td>Ticket number</td>\n",
    "<td></td>\n",
    "</tr>\n",
    "<tr>\n",
    "<td>fare</td>\n",
    "<td>Passenger fare</td>\n",
    "<td></td>\n",
    "</tr>\n",
    "<tr>\n",
    "<td>cabin</td>\n",
    "<td>Cabin number</td>\n",
    "<td></td>\n",
    "</tr>\n",
    "<tr>\n",
    "<td>embarked</td>\n",
    "<td>Port of Embarkation</td>\n",
    "<td>C = Cherbourg, Q = Queenstown, S = Southampton</td>\n",
    "</tr>\n",
    "</tbody>\n",
    "</table>"
   ]
  },
  {
   "cell_type": "markdown",
   "metadata": {},
   "source": [
    "**2. Estudi inicial, integració i selecció de les dades:**"
   ]
  },
  {
   "cell_type": "code",
   "execution_count": 2,
   "metadata": {},
   "outputs": [
    {
     "name": "stdout",
     "output_type": "stream",
     "text": [
      "Nom i tipus de les columnes:\n",
      " PassengerId      int64\n",
      "Survived         int64\n",
      "Pclass           int64\n",
      "Name            object\n",
      "Sex             object\n",
      "Age            float64\n",
      "SibSp            int64\n",
      "Parch            int64\n",
      "Ticket          object\n",
      "Fare           float64\n",
      "Cabin           object\n",
      "Embarked        object\n",
      "dtype: object\n"
     ]
    }
   ],
   "source": [
    "print(\"Nom i tipus de les columnes:\\n\",train.dtypes)"
   ]
  },
  {
   "cell_type": "code",
   "execution_count": 3,
   "metadata": {},
   "outputs": [
    {
     "name": "stdout",
     "output_type": "stream",
     "text": [
      "La classe és l'atribut 'Survived', que pren el valor 1 quan la persona sobreviu i 0 en cas contrari.\n",
      "Els atributs categòrics són: pclass, name, sex, ticket, cabin i embarked\n",
      "Els atributs numèrics són: age, sibsp, parch i fare\n"
     ]
    }
   ],
   "source": [
    "print(\"La classe és l'atribut 'Survived', que pren el valor 1 quan la persona sobreviu i 0 en cas contrari.\")\n",
    "print(\"Els atributs categòrics són: pclass, name, sex, ticket, cabin i embarked\")\n",
    "print(\"Els atributs numèrics són: age, sibsp, parch i fare\")"
   ]
  },
  {
   "cell_type": "code",
   "execution_count": 4,
   "metadata": {},
   "outputs": [
    {
     "name": "stdout",
     "output_type": "stream",
     "text": [
      "Qui va sobreviure? (variables categòriques i no-continues)\n",
      "   Pclass  Survived\n",
      "0       1  0.629630\n",
      "1       2  0.472826\n",
      "2       3  0.242363 \n",
      "\n",
      "      Sex  Survived\n",
      "0  female  0.742038\n",
      "1    male  0.188908 \n",
      "\n",
      "   SibSp  Survived\n",
      "1      1  0.535885\n",
      "2      2  0.464286\n",
      "0      0  0.345395\n",
      "3      3  0.250000\n",
      "4      4  0.166667\n",
      "5      5  0.000000\n",
      "6      8  0.000000 \n",
      "\n",
      "  Embarked  Survived\n",
      "0        C  0.553571\n",
      "1        Q  0.389610\n",
      "2        S  0.336957 \n",
      "\n",
      "   Parch  Survived\n",
      "3      3  0.600000\n",
      "1      1  0.550847\n",
      "2      2  0.500000\n",
      "0      0  0.343658\n",
      "5      5  0.200000\n",
      "4      4  0.000000\n",
      "6      6  0.000000 \n",
      "\n"
     ]
    }
   ],
   "source": [
    "def print_survived_by(df, atributs):\n",
    "    for atribut in atributs:\n",
    "        print(df[[atribut, 'Survived']].groupby([atribut], as_index=False).mean().sort_values(by='Survived', ascending=False),\"\\n\")\n",
    "\n",
    "print(\"Qui va sobreviure? (variables categòriques i no-continues)\")        \n",
    "print_survived_by(train,[\"Pclass\",\"Sex\",\"SibSp\",\"Embarked\",\"Parch\"])"
   ]
  },
  {
   "cell_type": "code",
   "execution_count": 5,
   "metadata": {},
   "outputs": [
    {
     "name": "stdout",
     "output_type": "stream",
     "text": [
      "Mitjana de les variables continues. No hi ha diferències significatives per 'Age', però sí per 'Fare'. Com més havies pagat, més possibilitat de sobreviure.\n"
     ]
    },
    {
     "data": {
      "text/html": [
       "<div>\n",
       "<style scoped>\n",
       "    .dataframe tbody tr th:only-of-type {\n",
       "        vertical-align: middle;\n",
       "    }\n",
       "\n",
       "    .dataframe tbody tr th {\n",
       "        vertical-align: top;\n",
       "    }\n",
       "\n",
       "    .dataframe thead th {\n",
       "        text-align: right;\n",
       "    }\n",
       "</style>\n",
       "<table border=\"1\" class=\"dataframe\">\n",
       "  <thead>\n",
       "    <tr style=\"text-align: right;\">\n",
       "      <th></th>\n",
       "      <th>Age</th>\n",
       "      <th>Fare</th>\n",
       "    </tr>\n",
       "    <tr>\n",
       "      <th>Survived</th>\n",
       "      <th></th>\n",
       "      <th></th>\n",
       "    </tr>\n",
       "  </thead>\n",
       "  <tbody>\n",
       "    <tr>\n",
       "      <th>0</th>\n",
       "      <td>30.626179</td>\n",
       "      <td>22.117887</td>\n",
       "    </tr>\n",
       "    <tr>\n",
       "      <th>1</th>\n",
       "      <td>28.343690</td>\n",
       "      <td>48.395408</td>\n",
       "    </tr>\n",
       "  </tbody>\n",
       "</table>\n",
       "</div>"
      ],
      "text/plain": [
       "                Age       Fare\n",
       "Survived                      \n",
       "0         30.626179  22.117887\n",
       "1         28.343690  48.395408"
      ]
     },
     "execution_count": 5,
     "metadata": {},
     "output_type": "execute_result"
    }
   ],
   "source": [
    "print(\"Mitjana de les variables continues. No hi ha diferències significatives per 'Age', però sí per 'Fare'. Com més havies pagat, més possibilitat de sobreviure.\")\n",
    "g_survived = train[[\"Age\",\"Fare\",\"Survived\"]].groupby(\"Survived\")\n",
    "g_survived.mean()"
   ]
  },
  {
   "cell_type": "code",
   "execution_count": 16,
   "metadata": {},
   "outputs": [
    {
     "name": "stdout",
     "output_type": "stream",
     "text": [
      "Sempre s'ha dit que en l'enfonsament del Titànic, la prioritat era salvar els nens i les dones.\n",
      "El cas de les dones ha quedat demostrat, un 74% de les dones va sobreviure mentre que només ho va fer el 19% dels homes.\n",
      "Anem a veure ara el cas dels nens. Es veu clarament com tenir menys de 22 anys incrementava considerablement la possibilitat de sobreviure.\n"
     ]
    },
    {
     "data": {
      "text/plain": [
       "<matplotlib.axes._subplots.AxesSubplot at 0x2d3da390>"
      ]
     },
     "execution_count": 16,
     "metadata": {},
     "output_type": "execute_result"
    },
    {
     "data": {
      "image/png": "[encoded data removed]",
      "text/plain": [
       "<matplotlib.figure.Figure at 0x2d3d5048>"
      ]
     },
     "metadata": {},
     "output_type": "display_data"
    }
   ],
   "source": [
    "import seaborn as sns\n",
    "print(\"Sempre s'ha dit que en l'enfonsament del Titànic, la prioritat era salvar els nens i les dones.\")\n",
    "print(\"El cas de les dones ha quedat demostrat, un 74% de les dones va sobreviure mentre que només ho va fer el 19% dels homes.\")\n",
    "print(\"Anem a veure ara el cas dels nens. Es veu clarament com tenir menys de 22 anys incrementava considerablement la possibilitat de sobreviure.\")\n",
    "g_survived_0 = g_survived.get_group(0)\n",
    "g_survived_1 = g_survived.get_group(1)\n",
    "\n",
    "s_list = []\n",
    "for x in range(2,80):\n",
    "    g0 = g_survived_0[g_survived_0[\"Age\"]<x][\"Age\"].count()\n",
    "    g1 = g_survived_1[g_survived_1[\"Age\"]<x][\"Age\"].count()\n",
    "    gtotal = g0+g1\n",
    "    s_list.append([x,g1*100/gtotal])\n",
    "\n",
    "s_frame = pd.DataFrame(s_list, columns=[\"Age\",\"Survived %\"])\n",
    "sns.lineplot(x=\"Age\", y=\"Survived %\", data=s_frame)"
   ]
  },
  {
   "cell_type": "code",
   "execution_count": 7,
   "metadata": {},
   "outputs": [
    {
     "name": "stdout",
     "output_type": "stream",
     "text": [
      "Què ens diuen els dos atributs restants, 'Cabin' i 'Ticket'?\n",
      "Valors únics per 'Cabin':  147\n",
      "Valors únics per 'Ticket':  681\n",
      "Cap dels dos atributs és numèric i presenten valors nuls o una gran quantitat de valors únics diferents. A més, el tiquet sembla ser irrellevant respecte a sobreviure o no.\n",
      "Així doncs, es descartaran aquests dos atributs a més de la Id, tan en el conjunt d'entrenament com en el de test.\n"
     ]
    }
   ],
   "source": [
    "print(\"Què ens diuen els dos atributs restants, 'Cabin' i 'Ticket'?\")\n",
    "print(\"Valors únics per 'Cabin': \",train[\"Cabin\"].nunique())\n",
    "print(\"Valors únics per 'Ticket': \",train[\"Ticket\"].nunique())\n",
    "print(\"Cap dels dos atributs és numèric i presenten valors nuls o una gran quantitat de valors únics diferents. A més, el tiquet sembla ser irrellevant respecte a sobreviure o no.\")\n",
    "print(\"Així doncs, es descartaran aquests dos atributs a més de la Id, tan en el conjunt d'entrenament com en el de test.\")"
   ]
  },
  {
   "cell_type": "code",
   "execution_count": 8,
   "metadata": {},
   "outputs": [],
   "source": [
    "test_index = test[\"PassengerId\"]\n",
    "train.drop(\"PassengerId\", axis=1, inplace=True)\n",
    "test.drop(\"PassengerId\", axis=1, inplace=True)\n",
    "train.drop(\"Cabin\", axis=1, inplace=True)\n",
    "train.drop(\"Ticket\", axis=1, inplace=True)\n",
    "test.drop(\"Cabin\", axis=1, inplace=True)\n",
    "test.drop(\"Ticket\", axis=1, inplace=True)"
   ]
  },
  {
   "cell_type": "markdown",
   "metadata": {},
   "source": [
    "**Resum:**\n",
    "\n",
    "· L'atribut classe és 'Survived'.\n",
    "\n",
    "· Els atributs rellevants, els quals s'utilitzaran, són: 'Pclass', 'Name', 'Sex', 'Age', 'SibSp', 'Parch', 'Fare' i 'Embarked'.\n",
    "\n",
    "· Al següent apartat s'aplicarà una neteja de dades, que consitirà en: detecció de valors extrems i de valors nulls (o zeros) i una mica d'enginyeria d'atributs."
   ]
  },
  {
   "cell_type": "markdown",
   "metadata": {},
   "source": [
    "** 3.Neteja de les dades**"
   ]
  },
  {
   "cell_type": "code",
   "execution_count": 9,
   "metadata": {},
   "outputs": [
    {
     "name": "stdout",
     "output_type": "stream",
     "text": [
      "\n",
      "Mirem si hi ha valors nuls que caldrà tractar:\n",
      "\n",
      "<class 'pandas.core.frame.DataFrame'>\n",
      "RangeIndex: 891 entries, 0 to 890\n",
      "Data columns (total 9 columns):\n",
      "Survived    891 non-null int64\n",
      "Pclass      891 non-null int64\n",
      "Name        891 non-null object\n",
      "Sex         891 non-null object\n",
      "Age         714 non-null float64\n",
      "SibSp       891 non-null int64\n",
      "Parch       891 non-null int64\n",
      "Fare        891 non-null float64\n",
      "Embarked    889 non-null object\n",
      "dtypes: float64(2), int64(4), object(3)\n",
      "memory usage: 62.7+ KB\n",
      "\n",
      "Al conjunt d'entrenament hi ha valors nuls als atributs: age i embarked.\n",
      "\n",
      "<class 'pandas.core.frame.DataFrame'>\n",
      "RangeIndex: 418 entries, 0 to 417\n",
      "Data columns (total 8 columns):\n",
      "Pclass      418 non-null int64\n",
      "Name        418 non-null object\n",
      "Sex         418 non-null object\n",
      "Age         332 non-null float64\n",
      "SibSp       418 non-null int64\n",
      "Parch       418 non-null int64\n",
      "Fare        417 non-null float64\n",
      "Embarked    418 non-null object\n",
      "dtypes: float64(2), int64(3), object(3)\n",
      "memory usage: 26.2+ KB\n",
      "\n",
      "Al conjunt de test hi ha valors nuls als atributs: age i fare.\n"
     ]
    }
   ],
   "source": [
    "print(\"\\nMirem si hi ha valors nuls que caldrà tractar:\\n\")\n",
    "train.info()\n",
    "print(\"\\nAl conjunt d'entrenament hi ha valors nuls als atributs: age i embarked.\\n\")\n",
    "test.info()\n",
    "print(\"\\nAl conjunt de test hi ha valors nuls als atributs: age i fare.\")"
   ]
  },
  {
   "cell_type": "markdown",
   "metadata": {},
   "source": [
    "· A part dels atributs nuls, també caldrà tractar els outliers (valors extrems).\n",
    "\n",
    "· Es considera un valor extrem aquell que està més enllà de 3 desviacions estàndard.\n",
    "\n",
    "· Si es detecta un valor extrem en una columna, aquest serà substituït per el valor màxim de la mateixa. La idea és mirar de mantenir la informació, però sense que els valors extrems afectin tant a l'estadística. És a dir, es vol suavitzar-los.\n",
    "\n",
    "· Començant pels valors nulls. L'atribut edat **es calcularà amb un arbre de regressió:**"
   ]
  },
  {
   "cell_type": "code",
   "execution_count": 10,
   "metadata": {
    "scrolled": true
   },
   "outputs": [
    {
     "name": "stdout",
     "output_type": "stream",
     "text": [
      "Els valors predits són:\n",
      "\n",
      "[33, 31, 15, 32, 19, 27, 27, 22, 24, 32, 30, 36, 22, 24, 36, 40, 40, 27, 30, 22, 30, 30, 27, 29, 15, 30, 44, 30, 29, 30, 24, 8, 22, 48, 24, 16, 23, 31, 15, 44, 22, 8, 44, 27, 24, 23, 14, 15, 30, 24, 44, 22, 44, 22, 34, 64, 40, 44, 22, 24, 30, 30, 30, 8, 15, 27, 27, 26, 47, 32, 19, 19, 36, 13, 22, 28, 27, 21, 24, 27, 19, 34, 25, 32, 30, 44, 26, 19, 16, 30, 35, 44, 30, 34, 21, 30, 47, 34, 24, 16, 26, 36, 16, 50, 30, 39, 32, 24, 38, 24, 4, 19, 23, 44, 24, 44, 30, 25, 24, 22, 17, 33, 30, 16, 14, 32, 27, 28, 27, 15, 44, 21, 39, 27, 29, 42, 27, 19, 27, 29, 35, 34, 15, 29, 16, 40, 50, 36, 16, 34, 27, 27, 54, 19, 36, 39, 32, 44, 21, 13, 44, 16, 56, 39, 19, 29, 44, 24, 30, 58, 8, 33, 24, 16, 26, 27, 13]\n",
      "[27, 61, 24, 13, 25, 29, 50, 44, 23, 27, 35, 30, 27, 57, 26, 22, 29, 30, 44, 44, 24, 22, 34, 44, 44, 15, 45, 34, 54, 50, 32, 16, 36, 44, 42, 24, 44, 16, 64, 25, 15, 35, 27, 19, 30, 29, 22, 44, 26, 13, 14, 42, 44, 27, 39, 42, 25, 44, 15, 32, 22, 30, 24, 30, 28, 24, 24, 23, 22, 42, 32, 24, 16, 40, 29, 44, 43, 26, 44, 47, 31, 16, 22, 30, 30, 36]\n"
     ]
    }
   ],
   "source": [
    "#Tractament dels valors nulls:\n",
    "clean_train = train.copy()\n",
    "clean_test = test.copy()\n",
    "\n",
    "#És mirarà d'inferir l'edat a partir dels altres atributs i un model de regressió.\n",
    "from sklearn.tree import DecisionTreeRegressor\n",
    "\n",
    "#S'entrena un model d'arbre de regresió NOMÉS amb les dades d'entrenament. \n",
    "#NO volem en cap cas que les dades de test participin en l'entrenament (!).\n",
    "\n",
    "predicted_null_age = []\n",
    "\n",
    "ct_train = clean_train[clean_train[\"Age\"].notnull()].copy()\n",
    "ct_test = clean_train[clean_train[\"Age\"].isnull()].copy()\n",
    "ct_train.dropna(inplace=True)\n",
    "\n",
    "y = ct_train[\"Age\"]\n",
    "X = ct_train.drop([\"Age\",\"Name\",\"Survived\"], axis=1)\n",
    "XX = pd.get_dummies(X)\n",
    "#Entrenem només 1 sola vegada per el conjunt d'entrenament.\n",
    "DTR = DecisionTreeRegressor().fit(XX, y)\n",
    "\n",
    "#Predict train missing ages:\n",
    "X_to_predict = pd.get_dummies(ct_test.drop([\"Age\",\"Name\",\"Survived\"], axis=1))\n",
    "predicted_null_age.append(DTR.predict(X_to_predict))\n",
    "\n",
    "#Predict test missing ages:\n",
    "ct_test2 = clean_test[clean_test[\"Age\"].isnull()].copy()\n",
    "X_to_predict2 = pd.get_dummies(ct_test2.drop([\"Age\",\"Name\"], axis=1))\n",
    "predicted_null_age.append(DTR.predict(X_to_predict2))\n",
    "\n",
    "#Llistes d'edats calculades per l'arbre de decisió\n",
    "train_ages = list(map(int,predicted_null_age[0].tolist()))\n",
    "test_ages = list(map(int,predicted_null_age[1].tolist()))\n",
    "print(\"Els valors predits són:\\n\")\n",
    "print(train_ages)\n",
    "print(test_ages)"
   ]
  },
  {
   "cell_type": "code",
   "execution_count": 11,
   "metadata": {},
   "outputs": [
    {
     "name": "stdout",
     "output_type": "stream",
     "text": [
      "Ja no hi ha valors nuls: \n",
      "<class 'pandas.core.frame.DataFrame'>\n",
      "RangeIndex: 891 entries, 0 to 890\n",
      "Data columns (total 9 columns):\n",
      "Survived    891 non-null int64\n",
      "Pclass      891 non-null int64\n",
      "Name        891 non-null object\n",
      "Sex         891 non-null object\n",
      "Age         891 non-null float64\n",
      "SibSp       891 non-null int64\n",
      "Parch       891 non-null int64\n",
      "Fare        891 non-null float64\n",
      "Embarked    891 non-null object\n",
      "dtypes: float64(2), int64(4), object(3)\n",
      "memory usage: 62.7+ KB\n",
      "<class 'pandas.core.frame.DataFrame'>\n",
      "RangeIndex: 418 entries, 0 to 417\n",
      "Data columns (total 8 columns):\n",
      "Pclass      418 non-null int64\n",
      "Name        418 non-null object\n",
      "Sex         418 non-null object\n",
      "Age         418 non-null float64\n",
      "SibSp       418 non-null int64\n",
      "Parch       418 non-null int64\n",
      "Fare        418 non-null float64\n",
      "Embarked    418 non-null object\n",
      "dtypes: float64(2), int64(3), object(3)\n",
      "memory usage: 26.2+ KB\n"
     ]
    }
   ],
   "source": [
    "#L'atribut 'Age' s'emplena amb els valors de les llistes.\n",
    "clean_train.at[clean_train[\"Age\"].isnull(), \"Age\"] = train_ages\n",
    "clean_test.at[clean_test[\"Age\"].isnull(), \"Age\"] = test_ages\n",
    "\n",
    "#L'atribut Embarked s'emplena amb un valor aleatori (propagació cap endavant)\n",
    "clean_train.Embarked.fillna(method=\"ffill\", inplace=True)\n",
    "\n",
    "#L'atribut Fare s'emplena amb el valor Mediana, ja que la desviació estàndard és molt gran.\n",
    "clean_test.Fare.fillna(clean_test.Fare.median(), inplace=True)\n",
    "\n",
    "print(\"Ja no hi ha valors nuls: \")\n",
    "clean_train.info()\n",
    "clean_test.info()"
   ]
  },
  {
   "cell_type": "markdown",
   "metadata": {},
   "source": [
    "· A continuació es calculen els valors extrems:"
   ]
  },
  {
   "cell_type": "code",
   "execution_count": 12,
   "metadata": {},
   "outputs": [
    {
     "name": "stdout",
     "output_type": "stream",
     "text": [
      "Descripció de les variables numèriques:\n",
      "               Age       SibSp       Parch        Fare\n",
      "count  891.000000  891.000000  891.000000  891.000000\n",
      "mean    29.463715    0.523008    0.381594   32.204208\n",
      "std     13.811493    1.102743    0.806057   49.693429\n",
      "min      0.420000    0.000000    0.000000    0.000000\n",
      "25%     21.000000    0.000000    0.000000    7.910400\n",
      "50%     28.000000    0.000000    0.000000   14.454200\n",
      "75%     37.000000    1.000000    0.000000   31.000000\n",
      "max     80.000000    8.000000    6.000000  512.329200\n",
      "\n",
      "Hi ha valors molt extrems en els atributs 'SibSp', 'Parch' i 'Fare' (només cal comparar el valor màxim amb la mitjana).\n",
      "Els valors extrems ( x > 3 std) es substituiran per el valor màxim del conjunt, per mirar de mantenir el màxim d'informació.\n",
      "\n",
      "Descripció després de tractar els valors extrems:\n",
      "               Age       SibSp       Parch        Fare\n",
      "count  891.000000  891.000000  891.000000  891.000000\n",
      "mean    29.448002    0.452301    0.345679   29.635367\n",
      "std     13.760462    0.788059    0.663266   35.532019\n",
      "min      0.420000    0.000000    0.000000    0.000000\n",
      "25%     21.000000    0.000000    0.000000    7.910400\n",
      "50%     28.000000    0.000000    0.000000   14.454200\n",
      "75%     37.000000    1.000000    0.000000   31.000000\n",
      "max     70.500000    3.000000    2.000000  164.866700\n"
     ]
    }
   ],
   "source": [
    "import numpy as np\n",
    "\n",
    "#Descripció dels valors numèrics\n",
    "numeric_train = clean_train[[\"Age\",\"SibSp\",\"Parch\",\"Fare\"]]\n",
    "print(\"Descripció de les variables numèriques:\\n\",numeric_train.describe())\n",
    "\n",
    "print(\"\\nHi ha valors molt extrems en els atributs 'SibSp', 'Parch' i 'Fare' (només cal comparar el valor màxim amb la mitjana).\")\n",
    "print(\"Els valors extrems ( x > 3 std) es substituiran per el valor màxim del conjunt, per mirar de mantenir el màxim d'informació.\")\n",
    "\n",
    "#Pels valors numèrics, s'agafen només aquells que estan dintre de 3 desviacions estàndard:\n",
    "std3 = np.abs(numeric_train-numeric_train.mean()) <= (3*numeric_train.std())\n",
    "\n",
    "to_keep = numeric_train[std3]\n",
    "clean_train[[\"Age\",\"SibSp\",\"Parch\",\"Fare\"]] = to_keep.fillna(to_keep.max())\n",
    "print(\"\\nDescripció després de tractar els valors extrems:\\n\",clean_train[[\"Age\",\"SibSp\",\"Parch\",\"Fare\"]].describe())"
   ]
  },
  {
   "cell_type": "code",
   "execution_count": 13,
   "metadata": {},
   "outputs": [
    {
     "data": {
      "text/html": [
       "<div>\n",
       "<style scoped>\n",
       "    .dataframe tbody tr th:only-of-type {\n",
       "        vertical-align: middle;\n",
       "    }\n",
       "\n",
       "    .dataframe tbody tr th {\n",
       "        vertical-align: top;\n",
       "    }\n",
       "\n",
       "    .dataframe thead th {\n",
       "        text-align: right;\n",
       "    }\n",
       "</style>\n",
       "<table border=\"1\" class=\"dataframe\">\n",
       "  <thead>\n",
       "    <tr style=\"text-align: right;\">\n",
       "      <th></th>\n",
       "      <th>Pclass</th>\n",
       "      <th>Age</th>\n",
       "      <th>SibSp</th>\n",
       "      <th>Parch</th>\n",
       "      <th>Fare</th>\n",
       "    </tr>\n",
       "  </thead>\n",
       "  <tbody>\n",
       "    <tr>\n",
       "      <th>count</th>\n",
       "      <td>418.000000</td>\n",
       "      <td>418.000000</td>\n",
       "      <td>418.000000</td>\n",
       "      <td>418.000000</td>\n",
       "      <td>418.000000</td>\n",
       "    </tr>\n",
       "    <tr>\n",
       "      <th>mean</th>\n",
       "      <td>2.265550</td>\n",
       "      <td>30.575359</td>\n",
       "      <td>0.409091</td>\n",
       "      <td>0.346890</td>\n",
       "      <td>31.795855</td>\n",
       "    </tr>\n",
       "    <tr>\n",
       "      <th>std</th>\n",
       "      <td>0.841838</td>\n",
       "      <td>13.607253</td>\n",
       "      <td>0.683911</td>\n",
       "      <td>0.717545</td>\n",
       "      <td>40.001264</td>\n",
       "    </tr>\n",
       "    <tr>\n",
       "      <th>min</th>\n",
       "      <td>1.000000</td>\n",
       "      <td>0.170000</td>\n",
       "      <td>0.000000</td>\n",
       "      <td>0.000000</td>\n",
       "      <td>0.000000</td>\n",
       "    </tr>\n",
       "    <tr>\n",
       "      <th>25%</th>\n",
       "      <td>1.000000</td>\n",
       "      <td>22.000000</td>\n",
       "      <td>0.000000</td>\n",
       "      <td>0.000000</td>\n",
       "      <td>7.895800</td>\n",
       "    </tr>\n",
       "    <tr>\n",
       "      <th>50%</th>\n",
       "      <td>3.000000</td>\n",
       "      <td>28.000000</td>\n",
       "      <td>0.000000</td>\n",
       "      <td>0.000000</td>\n",
       "      <td>14.454200</td>\n",
       "    </tr>\n",
       "    <tr>\n",
       "      <th>75%</th>\n",
       "      <td>3.000000</td>\n",
       "      <td>40.000000</td>\n",
       "      <td>1.000000</td>\n",
       "      <td>0.000000</td>\n",
       "      <td>31.471875</td>\n",
       "    </tr>\n",
       "    <tr>\n",
       "      <th>max</th>\n",
       "      <td>3.000000</td>\n",
       "      <td>67.000000</td>\n",
       "      <td>3.000000</td>\n",
       "      <td>3.000000</td>\n",
       "      <td>164.866700</td>\n",
       "    </tr>\n",
       "  </tbody>\n",
       "</table>\n",
       "</div>"
      ],
      "text/plain": [
       "           Pclass         Age       SibSp       Parch        Fare\n",
       "count  418.000000  418.000000  418.000000  418.000000  418.000000\n",
       "mean     2.265550   30.575359    0.409091    0.346890   31.795855\n",
       "std      0.841838   13.607253    0.683911    0.717545   40.001264\n",
       "min      1.000000    0.170000    0.000000    0.000000    0.000000\n",
       "25%      1.000000   22.000000    0.000000    0.000000    7.895800\n",
       "50%      3.000000   28.000000    0.000000    0.000000   14.454200\n",
       "75%      3.000000   40.000000    1.000000    0.000000   31.471875\n",
       "max      3.000000   67.000000    3.000000    3.000000  164.866700"
      ]
     },
     "execution_count": 13,
     "metadata": {},
     "output_type": "execute_result"
    }
   ],
   "source": [
    "numeric_test = clean_test[[\"Age\",\"SibSp\",\"Parch\",\"Fare\"]]\n",
    "std3 = np.abs(numeric_test-numeric_test.mean()) <= (3*numeric_test.std())\n",
    "to_keep = numeric_test[std3]\n",
    "clean_test[[\"Age\",\"SibSp\",\"Parch\",\"Fare\"]] = to_keep.fillna(to_keep.max())\n",
    "clean_test.describe()"
   ]
  },
  {
   "cell_type": "markdown",
   "metadata": {},
   "source": [
    "· Una vegada emplenats els valors nulls i els zeros i tractat els valors extrems, es procedeix a l'enginyeria d'atributs.\n",
    "\n",
    "· La idea aquí és:\n",
    "\n",
    "1. Extreure el títol dels noms.\n",
    "2. Crear rangs a partir dels atributs 'Age' i 'Fare'. És a dir, generar dos nous atributs ordinals."
   ]
  },
  {
   "cell_type": "code",
   "execution_count": 14,
   "metadata": {},
   "outputs": [
    {
     "name": "stdout",
     "output_type": "stream",
     "text": [
      "Qui va sobreviure segons el títol?\n",
      "    Title  Survived\n",
      "3     Mrs  0.793651\n",
      "1    Miss  0.702703\n",
      "0  Master  0.575000\n",
      "4   Other  0.347826\n",
      "2      Mr  0.156673 \n",
      "\n",
      "Primeres 5 files de 'Train':\n",
      "    Survived  Pclass                                               Name  \\\n",
      "0         0       3                            Braund, Mr. Owen Harris   \n",
      "1         1       1  Cumings, Mrs. John Bradley (Florence Briggs Th...   \n",
      "2         1       3                             Heikkinen, Miss. Laina   \n",
      "3         1       1       Futrelle, Mrs. Jacques Heath (Lily May Peel)   \n",
      "4         0       3                           Allen, Mr. William Henry   \n",
      "\n",
      "      Sex   Age  SibSp  Parch     Fare Embarked     L_Age     L_Fare Title  \n",
      "0    male  22.0    1.0    0.0   7.2500        S  (21, 28]     (0, 8]    Mr  \n",
      "1  female  38.0    1.0    0.0  71.2833        C  (37, 71]  (31, 165]   Mrs  \n",
      "2  female  26.0    0.0    0.0   7.9250        S  (21, 28]     (0, 8]  Miss  \n",
      "3  female  35.0    1.0    0.0  53.1000        S  (28, 37]  (31, 165]   Mrs  \n",
      "4    male  35.0    0.0    0.0   8.0500        S  (28, 37]    (8, 14]    Mr  \n",
      "\n",
      "Primeres 5 files de 'Test':\n",
      "    Pclass                                          Name     Sex   Age  SibSp  \\\n",
      "0       3                              Kelly, Mr. James    male  34.5    0.0   \n",
      "1       3              Wilkes, Mrs. James (Ellen Needs)  female  47.0    1.0   \n",
      "2       2                     Myles, Mr. Thomas Francis    male  62.0    0.0   \n",
      "3       3                              Wirz, Mr. Albert    male  27.0    0.0   \n",
      "4       3  Hirvonen, Mrs. Alexander (Helga E Lindqvist)  female  22.0    1.0   \n",
      "\n",
      "   Parch     Fare Embarked     L_Age   L_Fare Title  PassengerId  \n",
      "0    0.0   7.8292        Q  (28, 37]   (0, 8]    Mr          892  \n",
      "1    0.0   7.0000        S  (37, 71]   (0, 8]   Mrs          893  \n",
      "2    0.0   9.6875        Q  (37, 71]  (8, 14]    Mr          894  \n",
      "3    0.0   8.6625        S  (21, 28]  (8, 14]    Mr          895  \n",
      "4    1.0  12.2875        S  (21, 28]  (8, 14]   Mrs          896  \n"
     ]
    }
   ],
   "source": [
    "#Es fa una altra còpia de seguretat\n",
    "train_test = [clean_train.copy(), clean_test.copy()]\n",
    "age_labels = [\"(0, 21]\", \"(21, 28]\",\"(28, 37]\",\"(37, 71]\"]\n",
    "age_bins = [0,21,28,37,71]\n",
    "\n",
    "fare_labels = [\"(0, 8]\",\"(8, 14]\",\"(14, 31]\",\"(31, 165]\"]\n",
    "fare_bins = [-0.5,8,14,31,165]\n",
    "                                                            \n",
    "\n",
    "for tt in train_test:\n",
    "    tt['L_Age'] = pd.cut(tt['Age'], bins=age_bins, labels=age_labels)\n",
    "    tt['L_Fare'] = pd.cut(tt['Fare'], bins=fare_bins, labels=fare_labels)\n",
    "    tt['Title'] = tt[\"Name\"].str.extract(' ([A-Za-z]+)\\.', expand=False).replace(['Lady', 'Countess','Capt', 'Col','Don', 'Dr', 'Major', 'Rev', 'Sir', 'Jonkheer', 'Dona'], 'Other')\n",
    "    tt['Title'] = tt['Title'].replace('Mlle', 'Miss')\n",
    "    tt['Title'] = tt['Title'].replace('Ms', 'Miss')\n",
    "    tt['Title'] = tt['Title'].replace('Mme', 'Mrs')\n",
    "\n",
    "#Es recupera la el conjunt de test\n",
    "train_test[1][\"PassengerId\"] = test_index\n",
    "print(\"Qui va sobreviure segons el títol?\")\n",
    "print_survived_by(train_test[0],[\"Title\"])\n",
    "print(\"Primeres 5 files de 'Train':\\n\",train_test[0][:5])\n",
    "print(\"\\nPrimeres 5 files de 'Test':\\n\",train_test[1][:5])"
   ]
  },
  {
   "cell_type": "markdown",
   "metadata": {},
   "source": [
    "**Conclusió:**\n",
    "\n",
    "· S'han tractat els valors nuls, els zeros i els outliers (sempre impedint qualsevol tipus de filtració d'informació al conjunt de test (!)).\n",
    "\n",
    "· S'han generat noves variables ('Title') i s'han discretitzat 'Age' i 'Fare'.\n",
    "\n",
    "· A continuació es guarden els dos nous fitxers, preparats per a l'anàlisi."
   ]
  },
  {
   "cell_type": "code",
   "execution_count": 15,
   "metadata": {},
   "outputs": [],
   "source": [
    "train_test[0].to_csv(\"cleaned_train.csv\", index=False)\n",
    "train_test[1].to_csv(\"cleaned_test.csv\", index=False)"
   ]
  }
 ],
 "metadata": {
  "kernelspec": {
   "display_name": "Python 3",
   "language": "python",
   "name": "python3"
  },
  "language_info": {
   "codemirror_mode": {
    "name": "ipython",
    "version": 3
   },
   "file_extension": ".py",
   "mimetype": "text/x-python",
   "name": "python",
   "nbconvert_exporter": "python",
   "pygments_lexer": "ipython3",
   "version": "3.6.5"
  }
 },
 "nbformat": 4,
 "nbformat_minor": 2
}
